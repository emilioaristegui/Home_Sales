{
 "cells": [
  {
   "cell_type": "code",
   "execution_count": 1,
   "metadata": {
    "colab": {
     "base_uri": "https://localhost:8080/"
    },
    "id": "a_KW73O2e3dw",
    "outputId": "fa5fd2b3-e2de-491b-ee1c-405317ba7ebc",
    "scrolled": true
   },
   "outputs": [],
   "source": [
    "# Import findspark and initialize. \n",
    "import findspark\n",
    "findspark.init()"
   ]
  },
  {
   "cell_type": "code",
   "execution_count": 2,
   "metadata": {
    "id": "2XbWNf1Te5fM"
   },
   "outputs": [
    {
     "name": "stderr",
     "output_type": "stream",
     "text": [
      "23/08/29 15:58:11 WARN Utils: Your hostname, MacBook-Pro-de-Emilio-6.local resolves to a loopback address: 127.0.0.1; using 192.168.15.6 instead (on interface en0)\n",
      "23/08/29 15:58:11 WARN Utils: Set SPARK_LOCAL_IP if you need to bind to another address\n",
      "Setting default log level to \"WARN\".\n",
      "To adjust logging level use sc.setLogLevel(newLevel). For SparkR, use setLogLevel(newLevel).\n",
      "23/08/29 15:58:12 WARN NativeCodeLoader: Unable to load native-hadoop library for your platform... using builtin-java classes where applicable\n"
     ]
    }
   ],
   "source": [
    "# Import packages\n",
    "from pyspark.sql import SparkSession\n",
    "import time\n",
    "\n",
    "# Create a SparkSession\n",
    "spark = SparkSession.builder.appName(\"SparkSQL\").getOrCreate()"
   ]
  },
  {
   "cell_type": "code",
   "execution_count": 3,
   "metadata": {
    "colab": {
     "base_uri": "https://localhost:8080/"
    },
    "id": "wOJqxG_RPSwp",
    "outputId": "7857ef9f-5b04-405d-f5aa-e535dfe7870c"
   },
   "outputs": [
    {
     "name": "stderr",
     "output_type": "stream",
     "text": [
      "                                                                                \r"
     ]
    },
    {
     "data": {
      "text/plain": [
       "DataFrame[id: string, date: date, date_built: int, price: int, bedrooms: int, bathrooms: int, sqft_living: int, sqft_lot: int, floors: int, waterfront: int, view: int]"
      ]
     },
     "execution_count": 3,
     "metadata": {},
     "output_type": "execute_result"
    }
   ],
   "source": [
    "# 1. Read in the AWS S3 bucket into a DataFrame.\n",
    "from pyspark import SparkFiles\n",
    "url = \"https://2u-data-curriculum-team.s3.amazonaws.com/dataviz-classroom/v1.2/22-big-data/home_sales_revised.csv\"\n",
    "\n",
    "# Download the file to Spark's local file system \n",
    "spark.sparkContext.addFile(url)\n",
    "file_path = SparkFiles.get(\"home_sales_revised.csv\")\n",
    "\n",
    "# Read the CSV file into a DataFrame\n",
    "df = spark.read.csv(file_path, header=True, inferSchema=True)\n",
    "df"
   ]
  },
  {
   "cell_type": "code",
   "execution_count": 4,
   "metadata": {
    "id": "RoljcJ7WPpnm"
   },
   "outputs": [],
   "source": [
    "# 2. Create a temporary view of the DataFrame.\n",
    "df.createOrReplaceTempView(\"home_sales\")"
   ]
  },
  {
   "cell_type": "code",
   "execution_count": 5,
   "metadata": {
    "colab": {
     "base_uri": "https://localhost:8080/"
    },
    "id": "L6fkwOeOmqvq",
    "outputId": "bdded620-79c4-488d-c7a5-91c6799c419e"
   },
   "outputs": [
    {
     "name": "stderr",
     "output_type": "stream",
     "text": [
      "\r",
      "[Stage 2:>                                                          (0 + 1) / 1]\r"
     ]
    },
    {
     "name": "stdout",
     "output_type": "stream",
     "text": [
      "+----+-------------+\n",
      "|year|average_price|\n",
      "+----+-------------+\n",
      "|2019|     300263.7|\n",
      "|2020|    298353.78|\n",
      "|2021|    301819.44|\n",
      "|2022|    296363.88|\n",
      "+----+-------------+\n",
      "\n"
     ]
    },
    {
     "name": "stderr",
     "output_type": "stream",
     "text": [
      "\r",
      "                                                                                \r"
     ]
    }
   ],
   "source": [
    "# 3. What is the average price for a four bedroom house sold in each year rounded to two decimal places?\n",
    "# SQL query to calculate the average price for a four-bedroom house sold in each year\n",
    "average_price_query = \"\"\"\n",
    "SELECT YEAR(date) AS year, \n",
    "       ROUND(AVG(price), 2) AS average_price\n",
    "FROM home_sales\n",
    "WHERE bedrooms = 4\n",
    "GROUP BY YEAR(date)\n",
    "ORDER BY year\n",
    "\"\"\"\n",
    "\n",
    "# Run the query and store the result in a DataFrame\n",
    "average_price_result = spark.sql(average_price_query)\n",
    "\n",
    "# Show the result\n",
    "average_price_result.show()"
   ]
  },
  {
   "cell_type": "code",
   "execution_count": 6,
   "metadata": {
    "colab": {
     "base_uri": "https://localhost:8080/"
    },
    "id": "l8p_tUS8h8it",
    "outputId": "65806e5f-6262-41c0-ff65-5107464e5c4d"
   },
   "outputs": [
    {
     "name": "stdout",
     "output_type": "stream",
     "text": [
      "+----------+-------------+\n",
      "|year_built|average_price|\n",
      "+----------+-------------+\n",
      "|      2010|    292859.62|\n",
      "|      2011|    291117.47|\n",
      "|      2012|    293683.19|\n",
      "|      2013|    295962.27|\n",
      "|      2014|    290852.27|\n",
      "|      2015|     288770.3|\n",
      "|      2016|    290555.07|\n",
      "|      2017|    292676.79|\n",
      "+----------+-------------+\n",
      "\n"
     ]
    }
   ],
   "source": [
    "# 4. What is the average price of a home for each year the home was built that have 3 bedrooms and 3 bathrooms rounded to two decimal places?\n",
    "# SQL query to calculate the average price for homes with 3 bedrooms and 3 bathrooms, grouped by the year built\n",
    "average_price_query = \"\"\"\n",
    "SELECT date_built AS year_built, \n",
    "       ROUND(AVG(price), 2) AS average_price\n",
    "FROM home_sales\n",
    "WHERE bedrooms = 3 AND bathrooms = 3\n",
    "GROUP BY date_built\n",
    "ORDER BY year_built\n",
    "\"\"\"\n",
    "\n",
    "# Run the query and store the result in a DataFrame\n",
    "average_price_result = spark.sql(average_price_query)\n",
    "\n",
    "# Show the result\n",
    "average_price_result.show()"
   ]
  },
  {
   "cell_type": "code",
   "execution_count": 7,
   "metadata": {
    "colab": {
     "base_uri": "https://localhost:8080/"
    },
    "id": "Y-Eytz64liDU",
    "outputId": "17119810-56ad-40c3-de5e-c3db57e43bcc"
   },
   "outputs": [
    {
     "name": "stdout",
     "output_type": "stream",
     "text": [
      "+----------+-------------+\n",
      "|year_built|average_price|\n",
      "+----------+-------------+\n",
      "|      2010|    285010.22|\n",
      "|      2011|    276553.81|\n",
      "|      2012|    307539.97|\n",
      "|      2013|    303676.79|\n",
      "|      2014|    298264.72|\n",
      "|      2015|    297609.97|\n",
      "|      2016|     293965.1|\n",
      "|      2017|    280317.58|\n",
      "+----------+-------------+\n",
      "\n"
     ]
    }
   ],
   "source": [
    "#  5. What is the average price of a home for each year built that have 3 bedrooms, 3 bathrooms, with two floors,\n",
    "# and are greater than or equal to 2,000 square feet rounded to two decimal places?\n",
    "from pyspark.sql.functions import year, avg, round\n",
    "\n",
    "# SQL query to calculate the average price for homes with specific criteria, grouped by the year built\n",
    "average_price_query = \"\"\"\n",
    "SELECT date_built AS year_built, \n",
    "       ROUND(AVG(price), 2) AS average_price\n",
    "FROM home_sales\n",
    "WHERE bedrooms = 3 AND bathrooms = 3 AND floors = 2 AND sqft_living >= 2000\n",
    "GROUP BY date_built\n",
    "ORDER BY year_built\n",
    "\"\"\"\n",
    "\n",
    "# Run the query and store the result in a DataFrame\n",
    "average_price_result = spark.sql(average_price_query)\n",
    "\n",
    "# Show the result\n",
    "average_price_result.show()"
   ]
  },
  {
   "cell_type": "code",
   "execution_count": 8,
   "metadata": {
    "colab": {
     "base_uri": "https://localhost:8080/"
    },
    "id": "GUrfgOX1pCRd",
    "outputId": "17c25774-855e-4290-a4bd-a04902bdc13a"
   },
   "outputs": [
    {
     "name": "stdout",
     "output_type": "stream",
     "text": [
      "+----+-------------+\n",
      "|view|average_price|\n",
      "+----+-------------+\n",
      "|  31|    399856.95|\n",
      "|  85|   1056336.74|\n",
      "|  65|    736679.93|\n",
      "|  53|     755214.8|\n",
      "|  78|   1080649.37|\n",
      "|  34|    401419.75|\n",
      "|  81|   1053472.79|\n",
      "|  28|    402124.62|\n",
      "|  76|   1058802.78|\n",
      "|  26|    401506.97|\n",
      "|  27|    399537.66|\n",
      "|  44|    400598.05|\n",
      "|  12|    401501.32|\n",
      "|  91|   1137372.73|\n",
      "|  22|    402022.68|\n",
      "|  93|   1026006.06|\n",
      "|  47|     398447.5|\n",
      "|   1|    401044.25|\n",
      "|  52|    733780.26|\n",
      "|  13|    398917.98|\n",
      "+----+-------------+\n",
      "only showing top 20 rows\n",
      "\n",
      "--- 0.44585680961608887 seconds ---\n"
     ]
    }
   ],
   "source": [
    "# 6. What is the \"view\" rating for the average price of a home, rounded to two decimal places, where the homes are greater than\n",
    "# or equal to $350,000? Although this is a small dataset, determine the run time for this query.\n",
    "\n",
    "# Start measuring time\n",
    "start_time = time.time()\n",
    "\n",
    "# SQL query to calculate the average price and \"view\" rating for homes greater than or equal to $350,000\n",
    "average_price_view_query = \"\"\"\n",
    "SELECT view, \n",
    "       ROUND(AVG(price), 2) AS average_price\n",
    "FROM home_sales\n",
    "WHERE price >= 350000\n",
    "GROUP BY view\n",
    "\"\"\"\n",
    "\n",
    "# Run the query and store the result in a DataFrame\n",
    "average_price_view_result = spark.sql(average_price_view_query)\n",
    "\n",
    "# Show the result\n",
    "average_price_view_result.show()\n",
    "\n",
    "# Calculate and print the runtime\n",
    "print(\"--- %s seconds ---\" % (time.time() - start_time))"
   ]
  },
  {
   "cell_type": "code",
   "execution_count": 9,
   "metadata": {
    "colab": {
     "base_uri": "https://localhost:8080/"
    },
    "id": "KAhk3ZD2tFy8",
    "outputId": "0a8f132d-40a8-4bd4-b5f2-2847e98427f5"
   },
   "outputs": [
    {
     "data": {
      "text/plain": [
       "DataFrame[id: string, date: date, date_built: int, price: int, bedrooms: int, bathrooms: int, sqft_living: int, sqft_lot: int, floors: int, waterfront: int, view: int]"
      ]
     },
     "execution_count": 9,
     "metadata": {},
     "output_type": "execute_result"
    }
   ],
   "source": [
    "# 7. Cache the the temporary table home_sales.\n",
    "spark.table(\"home_sales\").cache()"
   ]
  },
  {
   "cell_type": "code",
   "execution_count": 10,
   "metadata": {
    "colab": {
     "base_uri": "https://localhost:8080/"
    },
    "id": "4opVhbvxtL-i",
    "outputId": "38ec8487-795f-4550-b50c-fcc6f2b7c769"
   },
   "outputs": [
    {
     "data": {
      "text/plain": [
       "True"
      ]
     },
     "execution_count": 10,
     "metadata": {},
     "output_type": "execute_result"
    }
   ],
   "source": [
    "# 8. Check if the table is cached.\n",
    "spark.catalog.isCached('home_sales')"
   ]
  },
  {
   "cell_type": "code",
   "execution_count": 11,
   "metadata": {
    "colab": {
     "base_uri": "https://localhost:8080/"
    },
    "collapsed": true,
    "id": "5GnL46lwTSEk",
    "outputId": "09a16c73-194d-4371-95d1-ee64fe83b91c"
   },
   "outputs": [
    {
     "name": "stdout",
     "output_type": "stream",
     "text": [
      "+----+-------------+\n",
      "|view|average_price|\n",
      "+----+-------------+\n",
      "|  31|    399856.95|\n",
      "|  85|   1056336.74|\n",
      "|  65|    736679.93|\n",
      "|  53|     755214.8|\n",
      "|  78|   1080649.37|\n",
      "|  34|    401419.75|\n",
      "|  81|   1053472.79|\n",
      "|  28|    402124.62|\n",
      "|  76|   1058802.78|\n",
      "|  26|    401506.97|\n",
      "|  27|    399537.66|\n",
      "|  44|    400598.05|\n",
      "|  12|    401501.32|\n",
      "|  91|   1137372.73|\n",
      "|  22|    402022.68|\n",
      "|  93|   1026006.06|\n",
      "|  47|     398447.5|\n",
      "|   1|    401044.25|\n",
      "|  52|    733780.26|\n",
      "|  13|    398917.98|\n",
      "+----+-------------+\n",
      "only showing top 20 rows\n",
      "\n",
      "Cached Runtime: --- 0.8101639747619629 seconds ---\n",
      "+----+-------------+\n",
      "|view|average_price|\n",
      "+----+-------------+\n",
      "|  31|    399856.95|\n",
      "|  85|   1056336.74|\n",
      "|  65|    736679.93|\n",
      "|  53|     755214.8|\n",
      "|  78|   1080649.37|\n",
      "|  34|    401419.75|\n",
      "|  81|   1053472.79|\n",
      "|  28|    402124.62|\n",
      "|  76|   1058802.78|\n",
      "|  26|    401506.97|\n",
      "|  27|    399537.66|\n",
      "|  44|    400598.05|\n",
      "|  12|    401501.32|\n",
      "|  91|   1137372.73|\n",
      "|  22|    402022.68|\n",
      "|  93|   1026006.06|\n",
      "|  47|     398447.5|\n",
      "|   1|    401044.25|\n",
      "|  52|    733780.26|\n",
      "|  13|    398917.98|\n",
      "+----+-------------+\n",
      "only showing top 20 rows\n",
      "\n",
      "Uncached Runtime: --- 0.23837494850158691 seconds ---\n"
     ]
    }
   ],
   "source": [
    "# 9. Using the cached data, run the query that filters out the view ratings with average price \n",
    "#  greater than or equal to $350,000. Determine the runtime and compare it to uncached runtime.\n",
    "\n",
    "# Start measuring time\n",
    "start_time = time.time()\n",
    "\n",
    "# SQL query to calculate the average price and \"view\" rating for homes greater than \n",
    "# or equal to $350,000 using the cached data\n",
    "average_price_view_query_cached = \"\"\"\n",
    "SELECT view, \n",
    "       ROUND(AVG(price), 2) AS average_price\n",
    "FROM home_sales\n",
    "WHERE price >= 350000\n",
    "GROUP BY view\n",
    "\"\"\"\n",
    "\n",
    "# Run the query using the cached data and store the result in a DataFrame\n",
    "average_price_view_result_cached = spark.sql(average_price_view_query_cached)\n",
    "\n",
    "# Show the result\n",
    "average_price_view_result_cached.show()\n",
    "\n",
    "# Calculate and print the runtime\n",
    "print(\"Cached Runtime: --- %s seconds ---\" % (time.time() - start_time))\n",
    "\n",
    "# Start measuring time for the uncached query\n",
    "start_time_uncached = time.time()\n",
    "\n",
    "# SQL query to calculate the average price and \"view\" rating for homes greater than or \n",
    "# equal to $350,000 using uncached data\n",
    "average_price_view_query_uncached = \"\"\"\n",
    "SELECT view, \n",
    "       ROUND(AVG(price), 2) AS average_price\n",
    "FROM home_sales\n",
    "WHERE price >= 350000\n",
    "GROUP BY view\n",
    "\"\"\"\n",
    "\n",
    "# Run the uncached query and store the result in a DataFrame\n",
    "average_price_view_result_uncached = spark.sql(average_price_view_query_uncached)\n",
    "\n",
    "# Show the result\n",
    "average_price_view_result_uncached.show()\n",
    "\n",
    "# Calculate and print the runtime for the uncached query\n",
    "print(\"Uncached Runtime: --- %s seconds ---\" % (time.time() - start_time_uncached))"
   ]
  },
  {
   "cell_type": "code",
   "execution_count": 14,
   "metadata": {
    "id": "Qm12WN9isHBR"
   },
   "outputs": [
    {
     "name": "stderr",
     "output_type": "stream",
     "text": [
      "                                                                                \r"
     ]
    }
   ],
   "source": [
    "# 10. Partition by the \"date_built\" field on the formatted parquet home sales data \n",
    "# Define the output path for the partitioned data\n",
    "output_path = \"./Home_Sales\"\n",
    "\n",
    "# SQL query to calculate the average price and \"view\" rating for homes greater than or equal to $350,000\n",
    "average_price_view_query = \"\"\"\n",
    "SELECT view, \n",
    "       ROUND(AVG(price), 2) AS average_price\n",
    "FROM home_sales\n",
    "WHERE price >= 350000\n",
    "GROUP BY view\n",
    "\"\"\"\n",
    "\n",
    "# Run the query and store the result in a DataFrame\n",
    "average_price_view_result = spark.sql(average_price_view_query)\n",
    "\n",
    "# Write the data partitioned by the \"date_built\" field\n",
    "average_price_view_result.write.partitionBy(\"view\").parquet(output_path)"
   ]
  },
  {
   "cell_type": "code",
   "execution_count": 15,
   "metadata": {
    "id": "AZ7BgY61sRqY"
   },
   "outputs": [
    {
     "name": "stdout",
     "output_type": "stream",
     "text": [
      "+-------------+----+\n",
      "|average_price|view|\n",
      "+-------------+----+\n",
      "|    401868.43|  10|\n",
      "|    403005.77|   7|\n",
      "|    397389.25|   2|\n",
      "|    759150.14|  62|\n",
      "|    400929.43|  43|\n",
      "|    398592.71|   8|\n",
      "|    788128.21|  51|\n",
      "|   1061201.42|  99|\n",
      "|    399758.88|  21|\n",
      "|   1017815.92|  96|\n",
      "|    1072285.2|  87|\n",
      "|    991767.38|  80|\n",
      "|    752861.18|  73|\n",
      "|   1058802.78|  76|\n",
      "|    398917.98|  13|\n",
      "|    970402.55|  92|\n",
      "|   1080649.37|  78|\n",
      "|   1117233.13|  84|\n",
      "|   1107839.15|  89|\n",
      "|    798684.82|  54|\n",
      "+-------------+----+\n",
      "only showing top 20 rows\n",
      "\n"
     ]
    }
   ],
   "source": [
    "# 11. Read the formatted parquet data.\n",
    "# Define the path to the directory where the partitioned Parquet data is stored\n",
    "input_path = \"./Home_Sales\"\n",
    "\n",
    "# Read the partitioned Parquet data\n",
    "partitioned_parquet_df = spark.read.parquet(input_path)\n",
    "\n",
    "# Show the content of the DataFrame\n",
    "partitioned_parquet_df.show()"
   ]
  },
  {
   "cell_type": "code",
   "execution_count": 16,
   "metadata": {
    "collapsed": true,
    "id": "J6MJkHfvVcvh"
   },
   "outputs": [
    {
     "name": "stdout",
     "output_type": "stream",
     "text": [
      "+-------------+----+\n",
      "|average_price|view|\n",
      "+-------------+----+\n",
      "|    401868.43|  10|\n",
      "|    403005.77|   7|\n",
      "|    397389.25|   2|\n",
      "|    759150.14|  62|\n",
      "|    400929.43|  43|\n",
      "|    398592.71|   8|\n",
      "|    788128.21|  51|\n",
      "|   1061201.42|  99|\n",
      "|    399758.88|  21|\n",
      "|   1017815.92|  96|\n",
      "+-------------+----+\n",
      "\n"
     ]
    }
   ],
   "source": [
    "# 12. Create a temporary table for the parquet data.\n",
    "partitioned_parquet_df.createOrReplaceTempView(\"parquet_home_sales\")\n",
    "\n",
    "# Now you can use SQL queries on the \"parquet_home_sales\" table/view\n",
    "result = spark.sql(\"SELECT * FROM parquet_home_sales LIMIT 10\")\n",
    "result.show()"
   ]
  },
  {
   "cell_type": "code",
   "execution_count": 18,
   "metadata": {
    "colab": {
     "base_uri": "https://localhost:8080/"
    },
    "collapsed": true,
    "id": "G_Vhb52rU1Sn",
    "outputId": "a0b8d0c4-55ed-4c6c-bfd8-4c8c5334838e"
   },
   "outputs": [
    {
     "name": "stdout",
     "output_type": "stream",
     "text": [
      "+----+-------------+\n",
      "|view|average_price|\n",
      "+----+-------------+\n",
      "|  96|   1017815.92|\n",
      "|  43|    400929.43|\n",
      "|   8|    398592.71|\n",
      "|   7|    403005.77|\n",
      "|  87|    1072285.2|\n",
      "|  51|    788128.21|\n",
      "|  10|    401868.43|\n",
      "|  80|    991767.38|\n",
      "|  73|    752861.18|\n",
      "|  62|    759150.14|\n",
      "|  21|    399758.88|\n",
      "|   2|    397389.25|\n",
      "|  99|   1061201.42|\n",
      "|  65|    736679.93|\n",
      "|  78|   1080649.37|\n",
      "|  76|   1058802.78|\n",
      "|  13|    398917.98|\n",
      "|  40|    401767.82|\n",
      "|  54|    798684.82|\n",
      "|  19|    398953.17|\n",
      "+----+-------------+\n",
      "only showing top 20 rows\n",
      "\n",
      "Parquet Runtime: --- 0.49629998207092285 seconds ---\n"
     ]
    }
   ],
   "source": [
    "# 13. Run the query that filters out the view ratings with average price of greater than or eqaul to $350,000 \n",
    "# with the parquet DataFrame. Round your average to two decimal places. \n",
    "# Determine the runtime and compare it to the cached version. \n",
    "\n",
    "# Start measuring time for the parquet query\n",
    "start_time_parquet = time.time()\n",
    "\n",
    "# SQL query to calculate the average price and \"view\" rating for homes greater than or equal to\n",
    "# $350,000 using the parquet data\n",
    "average_price_view_query_parquet = \"\"\"\n",
    "SELECT view, \n",
    "       ROUND(AVG(average_price), 2) AS average_price\n",
    "FROM parquet_home_sales\n",
    "WHERE average_price >= 350000\n",
    "GROUP BY view\n",
    "\"\"\"\n",
    "\n",
    "# Run the query using the parquet data and store the result in a DataFrame\n",
    "average_price_view_result_parquet = spark.sql(average_price_view_query_parquet)\n",
    "\n",
    "# Show the result\n",
    "average_price_view_result_parquet.show()\n",
    "\n",
    "# Calculate and print the runtime for the parquet query\n",
    "print(\"Parquet Runtime: --- %s seconds ---\" % (time.time() - start_time_parquet))"
   ]
  },
  {
   "cell_type": "code",
   "execution_count": 19,
   "metadata": {
    "colab": {
     "base_uri": "https://localhost:8080/"
    },
    "id": "hjjYzQGjtbq8",
    "outputId": "830549fd-bb41-451b-9183-5ebf6e3e470b"
   },
   "outputs": [],
   "source": [
    "# 14. Uncache the home_sales temporary table.\n",
    "# Unpersist the cached data\n",
    "spark.catalog.uncacheTable(\"home_sales\")"
   ]
  },
  {
   "cell_type": "code",
   "execution_count": 20,
   "metadata": {
    "colab": {
     "base_uri": "https://localhost:8080/"
    },
    "id": "Sy9NBvO7tlmm",
    "outputId": "be73e0e3-5e85-4794-aad9-025fb6fa84a7"
   },
   "outputs": [
    {
     "name": "stdout",
     "output_type": "stream",
     "text": [
      "home_sales table is not cached.\n"
     ]
    }
   ],
   "source": [
    "# 15. Check if the home_sales is no longer cached\n",
    "is_cached = spark.catalog.isCached(\"home_sales\")\n",
    "\n",
    "# Print the caching status\n",
    "if is_cached:\n",
    "    print(\"home_sales table is cached.\")\n",
    "else:\n",
    "    print(\"home_sales table is not cached.\")\n"
   ]
  },
  {
   "cell_type": "code",
   "execution_count": null,
   "metadata": {},
   "outputs": [],
   "source": []
  }
 ],
 "metadata": {
  "colab": {
   "collapsed_sections": [],
   "name": "Copy of Home_Sales_solution.ipynb",
   "provenance": []
  },
  "kernelspec": {
   "display_name": "Python 3 (ipykernel)",
   "language": "python",
   "name": "python3"
  },
  "language_info": {
   "codemirror_mode": {
    "name": "ipython",
    "version": 3
   },
   "file_extension": ".py",
   "mimetype": "text/x-python",
   "name": "python",
   "nbconvert_exporter": "python",
   "pygments_lexer": "ipython3",
   "version": "3.10.9"
  },
  "nteract": {
   "version": "0.28.0"
  }
 },
 "nbformat": 4,
 "nbformat_minor": 1
}
